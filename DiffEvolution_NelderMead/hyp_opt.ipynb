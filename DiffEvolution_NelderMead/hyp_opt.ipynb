{
 "cells": [
  {
   "cell_type": "markdown",
   "metadata": {},
   "source": [
    "This notebook presents the application of Differential Evolution to the problem of optimally controlling the \n",
    "stretcher parameters of the L1 pump Laser. In particular, in this notebook, various loss functions are experimented in the sake of identifying the one yielding the optimal pulse shape. \n",
    "\n",
    "Author: Francesco Capuano, 2022 S17 summer intern @ ELI-beamlines, Prague"
   ]
  },
  {
   "cell_type": "markdown",
   "metadata": {},
   "source": [
    "# Setting\n",
    "The goal of this project is to maximise second-harmonic efficiency. \n",
    "\n",
    "However, since this metric is also very much related to the shortest possible pulse shape, we developed a strategy to optimise a predefinite set of control parameters so as to minimise the difference between the obtained pulse shape (in the temporal domain) and a target one (which is, by default, the shortest one).\n",
    "\n",
    "This process is very much intensive for what concerns the number of function evaluation we needed to use and, because of that, we resorted to use a custom-built fast-running forward model used to approximate/predict the temporal  profile of the pulse given a set of parameters. \n",
    "\n",
    "In particular, if one indicates with $\\psi = \\big( d_1, d_2, d_3 \\big)$ the control configuration of the stretcher and with $E(\\nu)$ the electric field in the frequency domain of the signal considered, then the fast running model we developed approximates $ \\tilde{\\tau}(\\psi; E(\\nu)) $, hopefully similar enough to the actual ${\\tau}(\\psi; E(\\nu))$ that can be collected only through practical observation on the real hardware. \n",
    "\n",
    "If one has a target temporal profile $\\tau^*$ of the pulse then it the problem can be framed as: \n",
    "\n",
    "$$\\min_{\\psi} L\\big[ \\tilde{\\tau}(\\psi; E(\\nu)), \\tau^*\\big]$$\n",
    "\n",
    "With $L$ being some sort of loss function. \n",
    "\n",
    "In our experiments among six different loss functions, the one that showed a better performance is Loss3, i.e.\n",
    "\n",
    "$$\n",
    "L\\big[ \\tilde{\\tau}(\\psi; E(\\nu)), \\tau^*\\big] = 0.3 \\frac{\\Vert \\tilde{\\tau}(\\psi) - \\tau^* \\Vert_{n < N} ^2 }{n} + 0.7 \\bigg(\\int_{-\\infty}^{\\infty} (\\tilde{\\tau}(\\psi) - \\tau^*) dt \\bigg)\n",
    "$$"
   ]
  },
  {
   "cell_type": "code",
   "execution_count": 32,
   "metadata": {
    "ExecuteTime": {
     "end_time": "2022-08-30T11:35:14.421418Z",
     "start_time": "2022-08-30T11:35:11.486585Z"
    }
   },
   "outputs": [
    {
     "name": "stderr",
     "output_type": "stream",
     "text": [
      "usage: ipykernel_launcher.py [-h] [--verbose VERBOSE] [--print-every PRINT_EVERY] [--maxit MAXIT]\n",
      "                             [--store-training STORE_TRAINING] [--training-file TRAINING_FILE]\n",
      "                             [--controls-fname CONTROLS_FNAME] [--pulses-fname PULSES_FNAME]\n",
      "                             [--render-training RENDER_TRAINING] [--render-output RENDER_OUTPUT]\n",
      "                             [--save-anim SAVE_ANIM] [--render-pulses RENDER_PULSES]\n",
      "                             [--render-controls RENDER_CONTROLS]\n",
      "ipykernel_launcher.py: error: unrecognized arguments: -f C:\\Users\\isrqa\\AppData\\Roaming\\jupyter\\runtime\\kernel-037d82e4-922f-41d2-9c58-c99f23fe923c.json\n"
     ]
    },
    {
     "ename": "SystemExit",
     "evalue": "2",
     "output_type": "error",
     "traceback": [
      "An exception has occurred, use %tb to see the full traceback.\n",
      "\u001b[1;31mSystemExit\u001b[0m\u001b[1;31m:\u001b[0m 2\n"
     ]
    }
   ],
   "source": [
    "# these imports are necessary to import modules from directories one level back in the folder structure\n",
    "import sys\n",
    "# sys.path.append(\"../..\")\n",
    "# sys.path.insert(1, 'C:/Users/isrqa/ELIopt-main/ELIopt-main/algorithms')\n",
    "import L1_DifferentialEvolution\n",
    "\n",
    "# from bayes_opt import BayesianOptimization\n",
    "# from algorithms.L1_DifferentialEvolution import extract_data, model, diff_evolution\n",
    "# from utils import physics\n",
    "# from utils.losses import Losses\n",
    "# from scipy.optimize import Bounds\n",
    "# import numpy as np\n",
    "# import matplotlib.pyplot as plt"
   ]
  },
  {
   "cell_type": "code",
   "execution_count": 30,
   "metadata": {},
   "outputs": [
    {
     "ename": "SystemExit",
     "evalue": "2",
     "output_type": "error",
     "traceback": [
      "\u001b[1;31m---------------------------------------------------------------------------\u001b[0m",
      "\u001b[1;31mSystemExit\u001b[0m                                Traceback (most recent call last)",
      "\u001b[1;32m<ipython-input-29-28e018d1b5dc>\u001b[0m in \u001b[0;36m<module>\u001b[1;34m\u001b[0m\n\u001b[0;32m      3\u001b[0m \u001b[1;31m# sys.path.append(\"../..\")\u001b[0m\u001b[1;33m\u001b[0m\u001b[1;33m\u001b[0m\u001b[1;33m\u001b[0m\u001b[0m\n\u001b[0;32m      4\u001b[0m \u001b[1;31m# sys.path.insert(1, 'C:/Users/isrqa/ELIopt-main/ELIopt-main/algorithms')\u001b[0m\u001b[1;33m\u001b[0m\u001b[1;33m\u001b[0m\u001b[1;33m\u001b[0m\u001b[0m\n\u001b[1;32m----> 5\u001b[1;33m \u001b[1;32mimport\u001b[0m \u001b[0mL1_DifferentialEvolution\u001b[0m\u001b[1;33m\u001b[0m\u001b[1;33m\u001b[0m\u001b[0m\n\u001b[0m\u001b[0;32m      6\u001b[0m \u001b[1;33m\u001b[0m\u001b[0m\n\u001b[0;32m      7\u001b[0m \u001b[1;31m# from bayes_opt import BayesianOptimization\u001b[0m\u001b[1;33m\u001b[0m\u001b[1;33m\u001b[0m\u001b[1;33m\u001b[0m\u001b[0m\n",
      "\u001b[1;32mC:/Users/isrqa/ELIopt-main/ELIopt-main/algorithms\\L1_DifferentialEvolution.py\u001b[0m in \u001b[0;36m<module>\u001b[1;34m\u001b[0m\n\u001b[0;32m     41\u001b[0m     \u001b[1;32mreturn\u001b[0m \u001b[0mparser\u001b[0m\u001b[1;33m.\u001b[0m\u001b[0mparse_args\u001b[0m\u001b[1;33m(\u001b[0m\u001b[1;33m)\u001b[0m\u001b[1;33m\u001b[0m\u001b[1;33m\u001b[0m\u001b[0m\n\u001b[0;32m     42\u001b[0m \u001b[1;33m\u001b[0m\u001b[0m\n\u001b[1;32m---> 43\u001b[1;33m \u001b[0margs\u001b[0m \u001b[1;33m=\u001b[0m \u001b[0mparse_args\u001b[0m\u001b[1;33m(\u001b[0m\u001b[1;33m)\u001b[0m\u001b[1;33m\u001b[0m\u001b[1;33m\u001b[0m\u001b[0m\n\u001b[0m\u001b[0;32m     44\u001b[0m \u001b[1;33m\u001b[0m\u001b[0m\n\u001b[0;32m     45\u001b[0m def model(\n",
      "\u001b[1;32mC:/Users/isrqa/ELIopt-main/ELIopt-main/algorithms\\L1_DifferentialEvolution.py\u001b[0m in \u001b[0;36mparse_args\u001b[1;34m()\u001b[0m\n\u001b[0;32m     39\u001b[0m     \u001b[0mparser\u001b[0m\u001b[1;33m.\u001b[0m\u001b[0madd_argument\u001b[0m\u001b[1;33m(\u001b[0m\u001b[1;34m\"--render-pulses\"\u001b[0m\u001b[1;33m,\u001b[0m \u001b[0mdefault\u001b[0m\u001b[1;33m=\u001b[0m\u001b[1;32mTrue\u001b[0m\u001b[1;33m,\u001b[0m \u001b[0mtype\u001b[0m\u001b[1;33m=\u001b[0m\u001b[0mbool\u001b[0m\u001b[1;33m,\u001b[0m \u001b[0mhelp\u001b[0m\u001b[1;33m=\u001b[0m\u001b[1;34m\"Whether or not to render pulses observed\"\u001b[0m\u001b[1;33m)\u001b[0m\u001b[1;33m\u001b[0m\u001b[1;33m\u001b[0m\u001b[0m\n\u001b[0;32m     40\u001b[0m     \u001b[0mparser\u001b[0m\u001b[1;33m.\u001b[0m\u001b[0madd_argument\u001b[0m\u001b[1;33m(\u001b[0m\u001b[1;34m\"--render-controls\"\u001b[0m\u001b[1;33m,\u001b[0m \u001b[0mdefault\u001b[0m\u001b[1;33m=\u001b[0m\u001b[1;32mTrue\u001b[0m\u001b[1;33m,\u001b[0m \u001b[0mtype\u001b[0m\u001b[1;33m=\u001b[0m\u001b[0mbool\u001b[0m\u001b[1;33m,\u001b[0m \u001b[0mhelp\u001b[0m\u001b[1;33m=\u001b[0m\u001b[1;34m\"Whether or not to render controls applied\"\u001b[0m\u001b[1;33m)\u001b[0m\u001b[1;33m\u001b[0m\u001b[1;33m\u001b[0m\u001b[0m\n\u001b[1;32m---> 41\u001b[1;33m     \u001b[1;32mreturn\u001b[0m \u001b[0mparser\u001b[0m\u001b[1;33m.\u001b[0m\u001b[0mparse_args\u001b[0m\u001b[1;33m(\u001b[0m\u001b[1;33m)\u001b[0m\u001b[1;33m\u001b[0m\u001b[1;33m\u001b[0m\u001b[0m\n\u001b[0m\u001b[0;32m     42\u001b[0m \u001b[1;33m\u001b[0m\u001b[0m\n\u001b[0;32m     43\u001b[0m \u001b[0margs\u001b[0m \u001b[1;33m=\u001b[0m \u001b[0mparse_args\u001b[0m\u001b[1;33m(\u001b[0m\u001b[1;33m)\u001b[0m\u001b[1;33m\u001b[0m\u001b[1;33m\u001b[0m\u001b[0m\n",
      "\u001b[1;32m~\\anaconda3\\lib\\argparse.py\u001b[0m in \u001b[0;36mparse_args\u001b[1;34m(self, args, namespace)\u001b[0m\n\u001b[0;32m   1769\u001b[0m         \u001b[1;32mif\u001b[0m \u001b[0margv\u001b[0m\u001b[1;33m:\u001b[0m\u001b[1;33m\u001b[0m\u001b[1;33m\u001b[0m\u001b[0m\n\u001b[0;32m   1770\u001b[0m             \u001b[0mmsg\u001b[0m \u001b[1;33m=\u001b[0m \u001b[0m_\u001b[0m\u001b[1;33m(\u001b[0m\u001b[1;34m'unrecognized arguments: %s'\u001b[0m\u001b[1;33m)\u001b[0m\u001b[1;33m\u001b[0m\u001b[1;33m\u001b[0m\u001b[0m\n\u001b[1;32m-> 1771\u001b[1;33m             \u001b[0mself\u001b[0m\u001b[1;33m.\u001b[0m\u001b[0merror\u001b[0m\u001b[1;33m(\u001b[0m\u001b[0mmsg\u001b[0m \u001b[1;33m%\u001b[0m \u001b[1;34m' '\u001b[0m\u001b[1;33m.\u001b[0m\u001b[0mjoin\u001b[0m\u001b[1;33m(\u001b[0m\u001b[0margv\u001b[0m\u001b[1;33m)\u001b[0m\u001b[1;33m)\u001b[0m\u001b[1;33m\u001b[0m\u001b[1;33m\u001b[0m\u001b[0m\n\u001b[0m\u001b[0;32m   1772\u001b[0m         \u001b[1;32mreturn\u001b[0m \u001b[0margs\u001b[0m\u001b[1;33m\u001b[0m\u001b[1;33m\u001b[0m\u001b[0m\n\u001b[0;32m   1773\u001b[0m \u001b[1;33m\u001b[0m\u001b[0m\n",
      "\u001b[1;32m~\\anaconda3\\lib\\argparse.py\u001b[0m in \u001b[0;36merror\u001b[1;34m(self, message)\u001b[0m\n\u001b[0;32m   2519\u001b[0m         \u001b[0mself\u001b[0m\u001b[1;33m.\u001b[0m\u001b[0mprint_usage\u001b[0m\u001b[1;33m(\u001b[0m\u001b[0m_sys\u001b[0m\u001b[1;33m.\u001b[0m\u001b[0mstderr\u001b[0m\u001b[1;33m)\u001b[0m\u001b[1;33m\u001b[0m\u001b[1;33m\u001b[0m\u001b[0m\n\u001b[0;32m   2520\u001b[0m         \u001b[0margs\u001b[0m \u001b[1;33m=\u001b[0m \u001b[1;33m{\u001b[0m\u001b[1;34m'prog'\u001b[0m\u001b[1;33m:\u001b[0m \u001b[0mself\u001b[0m\u001b[1;33m.\u001b[0m\u001b[0mprog\u001b[0m\u001b[1;33m,\u001b[0m \u001b[1;34m'message'\u001b[0m\u001b[1;33m:\u001b[0m \u001b[0mmessage\u001b[0m\u001b[1;33m}\u001b[0m\u001b[1;33m\u001b[0m\u001b[1;33m\u001b[0m\u001b[0m\n\u001b[1;32m-> 2521\u001b[1;33m         \u001b[0mself\u001b[0m\u001b[1;33m.\u001b[0m\u001b[0mexit\u001b[0m\u001b[1;33m(\u001b[0m\u001b[1;36m2\u001b[0m\u001b[1;33m,\u001b[0m \u001b[0m_\u001b[0m\u001b[1;33m(\u001b[0m\u001b[1;34m'%(prog)s: error: %(message)s\\n'\u001b[0m\u001b[1;33m)\u001b[0m \u001b[1;33m%\u001b[0m \u001b[0margs\u001b[0m\u001b[1;33m)\u001b[0m\u001b[1;33m\u001b[0m\u001b[1;33m\u001b[0m\u001b[0m\n\u001b[0m",
      "\u001b[1;32m~\\anaconda3\\lib\\argparse.py\u001b[0m in \u001b[0;36mexit\u001b[1;34m(self, status, message)\u001b[0m\n\u001b[0;32m   2506\u001b[0m         \u001b[1;32mif\u001b[0m \u001b[0mmessage\u001b[0m\u001b[1;33m:\u001b[0m\u001b[1;33m\u001b[0m\u001b[1;33m\u001b[0m\u001b[0m\n\u001b[0;32m   2507\u001b[0m             \u001b[0mself\u001b[0m\u001b[1;33m.\u001b[0m\u001b[0m_print_message\u001b[0m\u001b[1;33m(\u001b[0m\u001b[0mmessage\u001b[0m\u001b[1;33m,\u001b[0m \u001b[0m_sys\u001b[0m\u001b[1;33m.\u001b[0m\u001b[0mstderr\u001b[0m\u001b[1;33m)\u001b[0m\u001b[1;33m\u001b[0m\u001b[1;33m\u001b[0m\u001b[0m\n\u001b[1;32m-> 2508\u001b[1;33m         \u001b[0m_sys\u001b[0m\u001b[1;33m.\u001b[0m\u001b[0mexit\u001b[0m\u001b[1;33m(\u001b[0m\u001b[0mstatus\u001b[0m\u001b[1;33m)\u001b[0m\u001b[1;33m\u001b[0m\u001b[1;33m\u001b[0m\u001b[0m\n\u001b[0m\u001b[0;32m   2509\u001b[0m \u001b[1;33m\u001b[0m\u001b[0m\n\u001b[0;32m   2510\u001b[0m     \u001b[1;32mdef\u001b[0m \u001b[0merror\u001b[0m\u001b[1;33m(\u001b[0m\u001b[0mself\u001b[0m\u001b[1;33m,\u001b[0m \u001b[0mmessage\u001b[0m\u001b[1;33m)\u001b[0m\u001b[1;33m:\u001b[0m\u001b[1;33m\u001b[0m\u001b[1;33m\u001b[0m\u001b[0m\n",
      "\u001b[1;31mSystemExit\u001b[0m: 2"
     ]
    }
   ],
   "source": [
    "%tb"
   ]
  },
  {
   "cell_type": "markdown",
   "metadata": {},
   "source": [
    "Here all the necessary elemets are imported. \n",
    "Please once more note that in this case the full tunable range for GDD, TOD and FOD is used instead of the one deriving from expert-rule around the possibility of changing these parameters into a credible region. "
   ]
  },
  {
   "cell_type": "code",
   "execution_count": 2,
   "metadata": {
    "ExecuteTime": {
     "end_time": "2022-08-30T11:35:14.544330Z",
     "start_time": "2022-08-30T11:35:14.426791Z"
    }
   },
   "outputs": [],
   "source": [
    "frequency, intensity = extract_data() # extracting the desired information\n",
    "\n",
    "# compressor parameters - obtained as minus the stretcher one - TO BE FIXED WITH REAL ONES ONCE THEY ARE AVAILABLE\n",
    "COMPRESSOR = -1 * np.array((267.422 * 1e-24, -2.384 * 1e-36, 9.54893 * 1e-50)) # in s^2, s^3 and s^4 (SI units)\n",
    "# non linearity parameter\n",
    "B = 2\n",
    "# cutoff frequencies, in THz, used to remove noise - derived from visual inspection\n",
    "CUTOFF = (289.95, 291.91)\n",
    "# model instantiation\n",
    "l1_pump = model(frequency, intensity, COMPRESSOR, B, CUTOFF, num_points=int(5e3))\n",
    "\n",
    "losses = Losses(l1_pump)\n",
    "\n",
    "bounds_DE = Bounds(\n",
    "            # GDD         # TOD          # FOD\n",
    "    lb = (2.3522e-22, -1.003635e-34, 4.774465e-50),\n",
    "    ub = (2.99624e-22, 9.55955e-35, 1.4323395e-49)\n",
    ")\n",
    "\n",
    "bounds_matrix = np.vstack((bounds_DE.lb, bounds_DE.ub)).T\n",
    "disp_bounds = np.sort(l1_pump.translate_control(bounds_matrix, verse = \"to_disp\"))"
   ]
  },
  {
   "cell_type": "markdown",
   "metadata": {},
   "source": [
    "In this case an extensive hyperparameter tuning is carried out using **Bayesian Optimisation** itself around the parameters of the Differential Evolutionary algorithm. "
   ]
  },
  {
   "cell_type": "code",
   "execution_count": 3,
   "metadata": {
    "ExecuteTime": {
     "end_time": "2022-08-30T11:35:14.556384Z",
     "start_time": "2022-08-30T11:35:14.551967Z"
    },
    "code_folding": []
   },
   "outputs": [],
   "source": [
    "def outer_objfunc(mutation:float, cross_p:float, population_size:float) -> float: \n",
    "    \"\"\"\n",
    "    This is the outher objective function which is taking as input values characteristic of the \n",
    "    optimisation process.\n",
    "    For further documentantion on the relevance of these parameters and their effect on the optimisation \n",
    "    route check literature.\n",
    "    \"\"\"\n",
    "    population_size = int(population_size) # must be int\n",
    "    \n",
    "    candidate_best = diff_evolution(\n",
    "        objective_function = losses.loss3,\n",
    "        bounds = disp_bounds,\n",
    "        mutation = mutation, \n",
    "        cross_p = cross_p, \n",
    "        population_size = population_size,\n",
    "        verbose = 0, \n",
    "        maxit = 500, \n",
    "        print_every = 50\n",
    "    )\n",
    "    \n",
    "    return -1 * losses.loss3(candidate_best) # maximizing"
   ]
  },
  {
   "cell_type": "code",
   "execution_count": 4,
   "metadata": {
    "ExecuteTime": {
     "end_time": "2022-08-30T13:05:33.124813Z",
     "start_time": "2022-08-30T11:35:14.560562Z"
    },
    "scrolled": true
   },
   "outputs": [
    {
     "name": "stdout",
     "output_type": "stream",
     "text": [
      "|   iter    |  target   |  cross_p  | mutation  | popula... |\n",
      "-------------------------------------------------------------\n",
      "| \u001b[0m 1       \u001b[0m | \u001b[0m-2.026   \u001b[0m | \u001b[0m 0.7713  \u001b[0m | \u001b[0m 0.5309  \u001b[0m | \u001b[0m 35.35   \u001b[0m |\n",
      "| \u001b[95m 2       \u001b[0m | \u001b[95m-2.026   \u001b[0m | \u001b[95m 0.7488  \u001b[0m | \u001b[95m 1.243   \u001b[0m | \u001b[95m 18.99   \u001b[0m |\n",
      "| \u001b[0m 3       \u001b[0m | \u001b[0m-2.028   \u001b[0m | \u001b[0m 0.1981  \u001b[0m | \u001b[0m 1.633   \u001b[0m | \u001b[0m 16.76   \u001b[0m |\n",
      "| \u001b[0m 4       \u001b[0m | \u001b[0m-2.077   \u001b[0m | \u001b[0m 0.08834 \u001b[0m | \u001b[0m 1.521   \u001b[0m | \u001b[0m 48.14   \u001b[0m |\n",
      "| \u001b[0m 5       \u001b[0m | \u001b[0m-2.23    \u001b[0m | \u001b[0m 0.003948\u001b[0m | \u001b[0m 1.263   \u001b[0m | \u001b[0m 42.5    \u001b[0m |\n",
      "| \u001b[0m 6       \u001b[0m | \u001b[0m-2.026   \u001b[0m | \u001b[0m 0.6125  \u001b[0m | \u001b[0m 1.575   \u001b[0m | \u001b[0m 21.68   \u001b[0m |\n",
      "| \u001b[0m 7       \u001b[0m | \u001b[0m-2.026   \u001b[0m | \u001b[0m 0.9178  \u001b[0m | \u001b[0m 1.565   \u001b[0m | \u001b[0m 31.7    \u001b[0m |\n",
      "| \u001b[0m 8       \u001b[0m | \u001b[0m-2.228   \u001b[0m | \u001b[0m 0.1422  \u001b[0m | \u001b[0m 1.056   \u001b[0m | \u001b[0m 36.97   \u001b[0m |\n",
      "| \u001b[0m 9       \u001b[0m | \u001b[0m-2.026   \u001b[0m | \u001b[0m 0.4418  \u001b[0m | \u001b[0m 1.147   \u001b[0m | \u001b[0m 34.71   \u001b[0m |\n",
      "| \u001b[0m 10      \u001b[0m | \u001b[0m-2.026   \u001b[0m | \u001b[0m 0.5131  \u001b[0m | \u001b[0m 1.469   \u001b[0m | \u001b[0m 34.04   \u001b[0m |\n",
      "| \u001b[0m 11      \u001b[0m | \u001b[0m-2.026   \u001b[0m | \u001b[0m 0.8052  \u001b[0m | \u001b[0m 1.277   \u001b[0m | \u001b[0m 46.35   \u001b[0m |\n",
      "| \u001b[0m 12      \u001b[0m | \u001b[0m-2.026   \u001b[0m | \u001b[0m 0.3192  \u001b[0m | \u001b[0m 0.6348  \u001b[0m | \u001b[0m 22.03   \u001b[0m |\n",
      "| \u001b[0m 13      \u001b[0m | \u001b[0m-2.307   \u001b[0m | \u001b[0m 0.114   \u001b[0m | \u001b[0m 1.735   \u001b[0m | \u001b[0m 11.88   \u001b[0m |\n",
      "| \u001b[0m 14      \u001b[0m | \u001b[0m-2.026   \u001b[0m | \u001b[0m 0.6263  \u001b[0m | \u001b[0m 1.316   \u001b[0m | \u001b[0m 42.77   \u001b[0m |\n",
      "| \u001b[0m 15      \u001b[0m | \u001b[0m-2.026   \u001b[0m | \u001b[0m 0.1989  \u001b[0m | \u001b[0m 1.777   \u001b[0m | \u001b[0m 24.07   \u001b[0m |\n",
      "| \u001b[0m 16      \u001b[0m | \u001b[0m-2.026   \u001b[0m | \u001b[0m 0.7546  \u001b[0m | \u001b[0m 0.941   \u001b[0m | \u001b[0m 45.36   \u001b[0m |\n",
      "| \u001b[0m 17      \u001b[0m | \u001b[0m-2.026   \u001b[0m | \u001b[0m 0.3255  \u001b[0m | \u001b[0m 0.7459  \u001b[0m | \u001b[0m 25.7    \u001b[0m |\n",
      "| \u001b[0m 18      \u001b[0m | \u001b[0m-2.158   \u001b[0m | \u001b[0m 0.09346 \u001b[0m | \u001b[0m 1.723   \u001b[0m | \u001b[0m 16.05   \u001b[0m |\n",
      "| \u001b[0m 19      \u001b[0m | \u001b[0m-2.026   \u001b[0m | \u001b[0m 0.3841  \u001b[0m | \u001b[0m 1.907   \u001b[0m | \u001b[0m 49.51   \u001b[0m |\n",
      "| \u001b[0m 20      \u001b[0m | \u001b[0m-2.026   \u001b[0m | \u001b[0m 0.4563  \u001b[0m | \u001b[0m 1.731   \u001b[0m | \u001b[0m 20.05   \u001b[0m |\n",
      "| \u001b[0m 21      \u001b[0m | \u001b[0m-2.026   \u001b[0m | \u001b[0m 0.8707  \u001b[0m | \u001b[0m 1.618   \u001b[0m | \u001b[0m 34.76   \u001b[0m |\n",
      "| \u001b[0m 22      \u001b[0m | \u001b[0m-2.026   \u001b[0m | \u001b[0m 0.5083  \u001b[0m | \u001b[0m 1.463   \u001b[0m | \u001b[0m 34.04   \u001b[0m |\n",
      "| \u001b[95m 23      \u001b[0m | \u001b[95m-2.026   \u001b[0m | \u001b[95m 1.0     \u001b[0m | \u001b[95m 1.413   \u001b[0m | \u001b[95m 43.33   \u001b[0m |\n",
      "| \u001b[0m 24      \u001b[0m | \u001b[0m-2.026   \u001b[0m | \u001b[0m 0.3654  \u001b[0m | \u001b[0m 1.508   \u001b[0m | \u001b[0m 17.61   \u001b[0m |\n",
      "| \u001b[0m 25      \u001b[0m | \u001b[0m-2.026   \u001b[0m | \u001b[0m 0.4656  \u001b[0m | \u001b[0m 0.9309  \u001b[0m | \u001b[0m 20.93   \u001b[0m |\n",
      "| \u001b[0m 26      \u001b[0m | \u001b[0m-2.026   \u001b[0m | \u001b[0m 0.3507  \u001b[0m | \u001b[0m 1.432   \u001b[0m | \u001b[0m 22.93   \u001b[0m |\n",
      "| \u001b[0m 27      \u001b[0m | \u001b[0m-2.026   \u001b[0m | \u001b[0m 0.1648  \u001b[0m | \u001b[0m 0.6873  \u001b[0m | \u001b[0m 19.79   \u001b[0m |\n",
      "| \u001b[0m 28      \u001b[0m | \u001b[0m-2.026   \u001b[0m | \u001b[0m 0.3872  \u001b[0m | \u001b[0m 0.7552  \u001b[0m | \u001b[0m 24.47   \u001b[0m |\n",
      "| \u001b[0m 29      \u001b[0m | \u001b[0m-2.026   \u001b[0m | \u001b[0m 0.7972  \u001b[0m | \u001b[0m 1.639   \u001b[0m | \u001b[0m 25.1    \u001b[0m |\n",
      "| \u001b[95m 30      \u001b[0m | \u001b[95m-2.026   \u001b[0m | \u001b[95m 0.9783  \u001b[0m | \u001b[95m 0.6306  \u001b[0m | \u001b[95m 23.47   \u001b[0m |\n",
      "| \u001b[0m 31      \u001b[0m | \u001b[0m-2.232   \u001b[0m | \u001b[0m 0.1132  \u001b[0m | \u001b[0m 0.5491  \u001b[0m | \u001b[0m 17.29   \u001b[0m |\n",
      "| \u001b[0m 32      \u001b[0m | \u001b[0m-2.026   \u001b[0m | \u001b[0m 0.8244  \u001b[0m | \u001b[0m 1.978   \u001b[0m | \u001b[0m 17.22   \u001b[0m |\n",
      "| \u001b[0m 33      \u001b[0m | \u001b[0m-2.026   \u001b[0m | \u001b[0m 0.2983  \u001b[0m | \u001b[0m 1.94    \u001b[0m | \u001b[0m 18.49   \u001b[0m |\n",
      "| \u001b[0m 34      \u001b[0m | \u001b[0m-2.026   \u001b[0m | \u001b[0m 1.0     \u001b[0m | \u001b[0m 0.5     \u001b[0m | \u001b[0m 34.17   \u001b[0m |\n",
      "| \u001b[0m 35      \u001b[0m | \u001b[0m-2.026   \u001b[0m | \u001b[0m 1.0     \u001b[0m | \u001b[0m 1.095   \u001b[0m | \u001b[0m 32.87   \u001b[0m |\n",
      "| \u001b[0m 36      \u001b[0m | \u001b[0m-2.026   \u001b[0m | \u001b[0m 0.2556  \u001b[0m | \u001b[0m 1.99    \u001b[0m | \u001b[0m 32.67   \u001b[0m |\n",
      "| \u001b[0m 37      \u001b[0m | \u001b[0m-2.129   \u001b[0m | \u001b[0m 0.0     \u001b[0m | \u001b[0m 0.9013  \u001b[0m | \u001b[0m 32.22   \u001b[0m |\n",
      "| \u001b[0m 38      \u001b[0m | \u001b[0m-2.235   \u001b[0m | \u001b[0m 0.02755 \u001b[0m | \u001b[0m 0.5106  \u001b[0m | \u001b[0m 23.06   \u001b[0m |\n",
      "| \u001b[0m 39      \u001b[0m | \u001b[0m-2.026   \u001b[0m | \u001b[0m 0.924   \u001b[0m | \u001b[0m 1.471   \u001b[0m | \u001b[0m 23.65   \u001b[0m |\n",
      "| \u001b[0m 40      \u001b[0m | \u001b[0m-2.026   \u001b[0m | \u001b[0m 0.9711  \u001b[0m | \u001b[0m 1.611   \u001b[0m | \u001b[0m 22.57   \u001b[0m |\n",
      "| \u001b[0m 41      \u001b[0m | \u001b[0m-2.219   \u001b[0m | \u001b[0m 0.0     \u001b[0m | \u001b[0m 1.528   \u001b[0m | \u001b[0m 19.31   \u001b[0m |\n",
      "| \u001b[0m 42      \u001b[0m | \u001b[0m-2.026   \u001b[0m | \u001b[0m 0.6808  \u001b[0m | \u001b[0m 1.32    \u001b[0m | \u001b[0m 24.45   \u001b[0m |\n",
      "| \u001b[0m 43      \u001b[0m | \u001b[0m-2.026   \u001b[0m | \u001b[0m 0.8869  \u001b[0m | \u001b[0m 1.702   \u001b[0m | \u001b[0m 18.16   \u001b[0m |\n",
      "| \u001b[0m 44      \u001b[0m | \u001b[0m-2.026   \u001b[0m | \u001b[0m 0.4152  \u001b[0m | \u001b[0m 1.704   \u001b[0m | \u001b[0m 20.82   \u001b[0m |\n",
      "| \u001b[0m 45      \u001b[0m | \u001b[0m-2.026   \u001b[0m | \u001b[0m 0.8749  \u001b[0m | \u001b[0m 1.082   \u001b[0m | \u001b[0m 20.21   \u001b[0m |\n",
      "| \u001b[0m 46      \u001b[0m | \u001b[0m-2.111   \u001b[0m | \u001b[0m 0.05192 \u001b[0m | \u001b[0m 1.271   \u001b[0m | \u001b[0m 24.95   \u001b[0m |\n",
      "| \u001b[0m 47      \u001b[0m | \u001b[0m-2.156   \u001b[0m | \u001b[0m 1.0     \u001b[0m | \u001b[0m 0.7009  \u001b[0m | \u001b[0m 24.18   \u001b[0m |\n",
      "| \u001b[0m 48      \u001b[0m | \u001b[0m-2.026   \u001b[0m | \u001b[0m 0.3378  \u001b[0m | \u001b[0m 1.283   \u001b[0m | \u001b[0m 20.35   \u001b[0m |\n",
      "| \u001b[0m 49      \u001b[0m | \u001b[0m-2.227   \u001b[0m | \u001b[0m 0.418   \u001b[0m | \u001b[0m 1.99    \u001b[0m | \u001b[0m 17.87   \u001b[0m |\n",
      "| \u001b[0m 50      \u001b[0m | \u001b[0m-2.026   \u001b[0m | \u001b[0m 0.7278  \u001b[0m | \u001b[0m 1.485   \u001b[0m | \u001b[0m 20.35   \u001b[0m |\n",
      "| \u001b[0m 51      \u001b[0m | \u001b[0m-2.209   \u001b[0m | \u001b[0m 0.08015 \u001b[0m | \u001b[0m 0.7513  \u001b[0m | \u001b[0m 33.11   \u001b[0m |\n",
      "| \u001b[0m 52      \u001b[0m | \u001b[0m-2.026   \u001b[0m | \u001b[0m 0.6416  \u001b[0m | \u001b[0m 1.289   \u001b[0m | \u001b[0m 20.85   \u001b[0m |\n",
      "| \u001b[0m 53      \u001b[0m | \u001b[0m-2.227   \u001b[0m | \u001b[0m 0.559   \u001b[0m | \u001b[0m 1.526   \u001b[0m | \u001b[0m 17.14   \u001b[0m |\n",
      "| \u001b[0m 54      \u001b[0m | \u001b[0m-2.026   \u001b[0m | \u001b[0m 0.6283  \u001b[0m | \u001b[0m 1.109   \u001b[0m | \u001b[0m 20.52   \u001b[0m |\n",
      "| \u001b[0m 55      \u001b[0m | \u001b[0m-2.026   \u001b[0m | \u001b[0m 0.2788  \u001b[0m | \u001b[0m 1.258   \u001b[0m | \u001b[0m 20.76   \u001b[0m |\n",
      "| \u001b[0m 56      \u001b[0m | \u001b[0m-2.026   \u001b[0m | \u001b[0m 0.3184  \u001b[0m | \u001b[0m 1.689   \u001b[0m | \u001b[0m 20.44   \u001b[0m |\n",
      "| \u001b[0m 57      \u001b[0m | \u001b[0m-2.026   \u001b[0m | \u001b[0m 0.6084  \u001b[0m | \u001b[0m 1.546   \u001b[0m | \u001b[0m 24.02   \u001b[0m |\n",
      "| \u001b[0m 58      \u001b[0m | \u001b[0m-2.026   \u001b[0m | \u001b[0m 0.5713  \u001b[0m | \u001b[0m 1.984   \u001b[0m | \u001b[0m 20.65   \u001b[0m |\n",
      "| \u001b[0m 59      \u001b[0m | \u001b[0m-2.026   \u001b[0m | \u001b[0m 0.8099  \u001b[0m | \u001b[0m 1.174   \u001b[0m | \u001b[0m 34.38   \u001b[0m |\n",
      "| \u001b[0m 60      \u001b[0m | \u001b[0m-2.026   \u001b[0m | \u001b[0m 0.8479  \u001b[0m | \u001b[0m 1.651   \u001b[0m | \u001b[0m 18.63   \u001b[0m |\n",
      "| \u001b[0m 61      \u001b[0m | \u001b[0m-2.026   \u001b[0m | \u001b[0m 0.8636  \u001b[0m | \u001b[0m 1.392   \u001b[0m | \u001b[0m 23.09   \u001b[0m |\n",
      "| \u001b[0m 62      \u001b[0m | \u001b[0m-2.026   \u001b[0m | \u001b[0m 0.4555  \u001b[0m | \u001b[0m 1.652   \u001b[0m | \u001b[0m 23.47   \u001b[0m |\n",
      "| \u001b[0m 63      \u001b[0m | \u001b[0m-2.026   \u001b[0m | \u001b[0m 0.2997  \u001b[0m | \u001b[0m 0.5941  \u001b[0m | \u001b[0m 23.4    \u001b[0m |\n",
      "| \u001b[0m 64      \u001b[0m | \u001b[0m-2.026   \u001b[0m | \u001b[0m 0.5872  \u001b[0m | \u001b[0m 1.087   \u001b[0m | \u001b[0m 23.52   \u001b[0m |\n",
      "| \u001b[0m 65      \u001b[0m | \u001b[0m-2.026   \u001b[0m | \u001b[0m 0.2592  \u001b[0m | \u001b[0m 0.8538  \u001b[0m | \u001b[0m 23.85   \u001b[0m |\n",
      "| \u001b[95m 66      \u001b[0m | \u001b[95m-2.026   \u001b[0m | \u001b[95m 0.9748  \u001b[0m | \u001b[95m 0.6348  \u001b[0m | \u001b[95m 23.48   \u001b[0m |\n",
      "| \u001b[0m 67      \u001b[0m | \u001b[0m-2.026   \u001b[0m | \u001b[0m 0.8947  \u001b[0m | \u001b[0m 0.7434  \u001b[0m | \u001b[0m 34.8    \u001b[0m |\n",
      "| \u001b[0m 68      \u001b[0m | \u001b[0m-2.026   \u001b[0m | \u001b[0m 0.8236  \u001b[0m | \u001b[0m 1.21    \u001b[0m | \u001b[0m 18.33   \u001b[0m |\n",
      "| \u001b[0m 69      \u001b[0m | \u001b[0m-2.026   \u001b[0m | \u001b[0m 0.8138  \u001b[0m | \u001b[0m 1.159   \u001b[0m | \u001b[0m 35.17   \u001b[0m |\n",
      "| \u001b[0m 70      \u001b[0m | \u001b[0m-2.026   \u001b[0m | \u001b[0m 0.5223  \u001b[0m | \u001b[0m 1.043   \u001b[0m | \u001b[0m 21.59   \u001b[0m |\n",
      "| \u001b[0m 71      \u001b[0m | \u001b[0m-2.026   \u001b[0m | \u001b[0m 0.7075  \u001b[0m | \u001b[0m 1.233   \u001b[0m | \u001b[0m 22.19   \u001b[0m |\n",
      "| \u001b[0m 72      \u001b[0m | \u001b[0m-2.026   \u001b[0m | \u001b[0m 0.5017  \u001b[0m | \u001b[0m 0.8007  \u001b[0m | \u001b[0m 28.25   \u001b[0m |\n",
      "| \u001b[0m 73      \u001b[0m | \u001b[0m-2.026   \u001b[0m | \u001b[0m 0.2701  \u001b[0m | \u001b[0m 1.249   \u001b[0m | \u001b[0m 18.01   \u001b[0m |\n",
      "| \u001b[0m 74      \u001b[0m | \u001b[0m-2.026   \u001b[0m | \u001b[0m 0.4454  \u001b[0m | \u001b[0m 1.735   \u001b[0m | \u001b[0m 22.37   \u001b[0m |\n",
      "| \u001b[0m 75      \u001b[0m | \u001b[0m-2.026   \u001b[0m | \u001b[0m 0.1083  \u001b[0m | \u001b[0m 1.226   \u001b[0m | \u001b[0m 22.07   \u001b[0m |\n",
      "| \u001b[0m 76      \u001b[0m | \u001b[0m-2.026   \u001b[0m | \u001b[0m 1.0     \u001b[0m | \u001b[0m 1.69    \u001b[0m | \u001b[0m 42.81   \u001b[0m |\n",
      "| \u001b[0m 77      \u001b[0m | \u001b[0m-2.204   \u001b[0m | \u001b[0m 0.4125  \u001b[0m | \u001b[0m 0.5811  \u001b[0m | \u001b[0m 17.44   \u001b[0m |\n",
      "| \u001b[0m 78      \u001b[0m | \u001b[0m-2.026   \u001b[0m | \u001b[0m 1.0     \u001b[0m | \u001b[0m 0.9487  \u001b[0m | \u001b[0m 42.91   \u001b[0m |\n",
      "| \u001b[0m 79      \u001b[0m | \u001b[0m-2.026   \u001b[0m | \u001b[0m 0.6264  \u001b[0m | \u001b[0m 1.474   \u001b[0m | \u001b[0m 47.91   \u001b[0m |\n"
     ]
    },
    {
     "name": "stdout",
     "output_type": "stream",
     "text": [
      "| \u001b[0m 80      \u001b[0m | \u001b[0m-2.026   \u001b[0m | \u001b[0m 0.8029  \u001b[0m | \u001b[0m 1.975   \u001b[0m | \u001b[0m 24.51   \u001b[0m |\n",
      "| \u001b[0m 81      \u001b[0m | \u001b[0m-2.026   \u001b[0m | \u001b[0m 0.9288  \u001b[0m | \u001b[0m 1.688   \u001b[0m | \u001b[0m 32.44   \u001b[0m |\n",
      "| \u001b[0m 82      \u001b[0m | \u001b[0m-2.026   \u001b[0m | \u001b[0m 0.8681  \u001b[0m | \u001b[0m 1.779   \u001b[0m | \u001b[0m 33.11   \u001b[0m |\n",
      "| \u001b[0m 83      \u001b[0m | \u001b[0m-2.026   \u001b[0m | \u001b[0m 0.6455  \u001b[0m | \u001b[0m 1.986   \u001b[0m | \u001b[0m 22.95   \u001b[0m |\n",
      "| \u001b[0m 84      \u001b[0m | \u001b[0m-2.179   \u001b[0m | \u001b[0m 0.0     \u001b[0m | \u001b[0m 1.433   \u001b[0m | \u001b[0m 21.41   \u001b[0m |\n",
      "| \u001b[0m 85      \u001b[0m | \u001b[0m-2.026   \u001b[0m | \u001b[0m 0.9487  \u001b[0m | \u001b[0m 0.6064  \u001b[0m | \u001b[0m 21.67   \u001b[0m |\n",
      "| \u001b[0m 86      \u001b[0m | \u001b[0m-2.026   \u001b[0m | \u001b[0m 0.2986  \u001b[0m | \u001b[0m 0.5018  \u001b[0m | \u001b[0m 20.44   \u001b[0m |\n",
      "| \u001b[0m 87      \u001b[0m | \u001b[0m-2.026   \u001b[0m | \u001b[0m 0.9865  \u001b[0m | \u001b[0m 1.093   \u001b[0m | \u001b[0m 21.35   \u001b[0m |\n",
      "| \u001b[0m 88      \u001b[0m | \u001b[0m-2.026   \u001b[0m | \u001b[0m 0.8599  \u001b[0m | \u001b[0m 0.5997  \u001b[0m | \u001b[0m 19.71   \u001b[0m |\n",
      "| \u001b[0m 89      \u001b[0m | \u001b[0m-2.038   \u001b[0m | \u001b[0m 0.08449 \u001b[0m | \u001b[0m 0.5718  \u001b[0m | \u001b[0m 23.21   \u001b[0m |\n",
      "| \u001b[0m 90      \u001b[0m | \u001b[0m-2.026   \u001b[0m | \u001b[0m 0.2105  \u001b[0m | \u001b[0m 0.9669  \u001b[0m | \u001b[0m 23.3    \u001b[0m |\n",
      "| \u001b[0m 91      \u001b[0m | \u001b[0m-2.166   \u001b[0m | \u001b[0m 0.02118 \u001b[0m | \u001b[0m 0.7438  \u001b[0m | \u001b[0m 23.49   \u001b[0m |\n",
      "| \u001b[0m 92      \u001b[0m | \u001b[0m-2.026   \u001b[0m | \u001b[0m 0.5854  \u001b[0m | \u001b[0m 1.398   \u001b[0m | \u001b[0m 20.56   \u001b[0m |\n",
      "| \u001b[0m 93      \u001b[0m | \u001b[0m-2.026   \u001b[0m | \u001b[0m 0.5935  \u001b[0m | \u001b[0m 1.391   \u001b[0m | \u001b[0m 23.31   \u001b[0m |\n",
      "| \u001b[0m 94      \u001b[0m | \u001b[0m-2.026   \u001b[0m | \u001b[0m 0.7864  \u001b[0m | \u001b[0m 1.122   \u001b[0m | \u001b[0m 34.77   \u001b[0m |\n",
      "| \u001b[0m 95      \u001b[0m | \u001b[0m-2.227   \u001b[0m | \u001b[0m 0.4086  \u001b[0m | \u001b[0m 1.332   \u001b[0m | \u001b[0m 12.11   \u001b[0m |\n",
      "| \u001b[0m 96      \u001b[0m | \u001b[0m-2.026   \u001b[0m | \u001b[0m 0.6379  \u001b[0m | \u001b[0m 1.63    \u001b[0m | \u001b[0m 22.76   \u001b[0m |\n",
      "| \u001b[0m 97      \u001b[0m | \u001b[0m-2.026   \u001b[0m | \u001b[0m 0.4184  \u001b[0m | \u001b[0m 1.218   \u001b[0m | \u001b[0m 23.89   \u001b[0m |\n",
      "| \u001b[0m 98      \u001b[0m | \u001b[0m-2.026   \u001b[0m | \u001b[0m 0.5349  \u001b[0m | \u001b[0m 0.8764  \u001b[0m | \u001b[0m 23.17   \u001b[0m |\n",
      "| \u001b[0m 99      \u001b[0m | \u001b[0m-2.026   \u001b[0m | \u001b[0m 0.9849  \u001b[0m | \u001b[0m 1.329   \u001b[0m | \u001b[0m 42.94   \u001b[0m |\n",
      "| \u001b[0m 100     \u001b[0m | \u001b[0m-2.026   \u001b[0m | \u001b[0m 0.5383  \u001b[0m | \u001b[0m 0.76    \u001b[0m | \u001b[0m 20.12   \u001b[0m |\n",
      "| \u001b[0m 101     \u001b[0m | \u001b[0m-2.026   \u001b[0m | \u001b[0m 0.6573  \u001b[0m | \u001b[0m 0.8537  \u001b[0m | \u001b[0m 21.95   \u001b[0m |\n",
      "| \u001b[0m 102     \u001b[0m | \u001b[0m-2.026   \u001b[0m | \u001b[0m 0.8714  \u001b[0m | \u001b[0m 1.215   \u001b[0m | \u001b[0m 21.77   \u001b[0m |\n",
      "| \u001b[0m 103     \u001b[0m | \u001b[0m-2.026   \u001b[0m | \u001b[0m 0.359   \u001b[0m | \u001b[0m 1.216   \u001b[0m | \u001b[0m 22.46   \u001b[0m |\n",
      "| \u001b[0m 104     \u001b[0m | \u001b[0m-2.026   \u001b[0m | \u001b[0m 0.541   \u001b[0m | \u001b[0m 0.8209  \u001b[0m | \u001b[0m 35.06   \u001b[0m |\n",
      "| \u001b[0m 105     \u001b[0m | \u001b[0m-2.026   \u001b[0m | \u001b[0m 0.5732  \u001b[0m | \u001b[0m 1.32    \u001b[0m | \u001b[0m 22.16   \u001b[0m |\n",
      "| \u001b[0m 106     \u001b[0m | \u001b[0m-2.026   \u001b[0m | \u001b[0m 0.5309  \u001b[0m | \u001b[0m 1.467   \u001b[0m | \u001b[0m 18.45   \u001b[0m |\n",
      "| \u001b[0m 107     \u001b[0m | \u001b[0m-2.026   \u001b[0m | \u001b[0m 0.6833  \u001b[0m | \u001b[0m 0.7309  \u001b[0m | \u001b[0m 34.37   \u001b[0m |\n",
      "| \u001b[0m 108     \u001b[0m | \u001b[0m-2.026   \u001b[0m | \u001b[0m 0.7487  \u001b[0m | \u001b[0m 1.156   \u001b[0m | \u001b[0m 22.7    \u001b[0m |\n",
      "| \u001b[0m 109     \u001b[0m | \u001b[0m-2.026   \u001b[0m | \u001b[0m 0.8344  \u001b[0m | \u001b[0m 1.685   \u001b[0m | \u001b[0m 22.1    \u001b[0m |\n",
      "| \u001b[0m 110     \u001b[0m | \u001b[0m-2.026   \u001b[0m | \u001b[0m 0.5978  \u001b[0m | \u001b[0m 1.632   \u001b[0m | \u001b[0m 32.76   \u001b[0m |\n",
      "| \u001b[0m 111     \u001b[0m | \u001b[0m-2.227   \u001b[0m | \u001b[0m 0.1898  \u001b[0m | \u001b[0m 1.066   \u001b[0m | \u001b[0m 24.23   \u001b[0m |\n",
      "| \u001b[0m 112     \u001b[0m | \u001b[0m-2.026   \u001b[0m | \u001b[0m 0.2561  \u001b[0m | \u001b[0m 1.338   \u001b[0m | \u001b[0m 23.56   \u001b[0m |\n",
      "| \u001b[0m 113     \u001b[0m | \u001b[0m-2.026   \u001b[0m | \u001b[0m 0.956   \u001b[0m | \u001b[0m 1.659   \u001b[0m | \u001b[0m 24.69   \u001b[0m |\n",
      "| \u001b[0m 114     \u001b[0m | \u001b[0m-2.026   \u001b[0m | \u001b[0m 0.6663  \u001b[0m | \u001b[0m 0.6834  \u001b[0m | \u001b[0m 21.28   \u001b[0m |\n",
      "| \u001b[0m 115     \u001b[0m | \u001b[0m-2.209   \u001b[0m | \u001b[0m 0.3828  \u001b[0m | \u001b[0m 0.6073  \u001b[0m | \u001b[0m 43.17   \u001b[0m |\n",
      "| \u001b[0m 116     \u001b[0m | \u001b[0m-2.026   \u001b[0m | \u001b[0m 0.7502  \u001b[0m | \u001b[0m 1.982   \u001b[0m | \u001b[0m 32.68   \u001b[0m |\n",
      "| \u001b[0m 117     \u001b[0m | \u001b[0m-2.026   \u001b[0m | \u001b[0m 0.9868  \u001b[0m | \u001b[0m 1.568   \u001b[0m | \u001b[0m 24.3    \u001b[0m |\n",
      "| \u001b[0m 118     \u001b[0m | \u001b[0m-2.026   \u001b[0m | \u001b[0m 0.8943  \u001b[0m | \u001b[0m 1.815   \u001b[0m | \u001b[0m 23.31   \u001b[0m |\n",
      "| \u001b[0m 119     \u001b[0m | \u001b[0m-2.03    \u001b[0m | \u001b[0m 0.06997 \u001b[0m | \u001b[0m 0.929   \u001b[0m | \u001b[0m 40.86   \u001b[0m |\n",
      "| \u001b[0m 120     \u001b[0m | \u001b[0m-2.026   \u001b[0m | \u001b[0m 0.09398 \u001b[0m | \u001b[0m 0.8614  \u001b[0m | \u001b[0m 20.26   \u001b[0m |\n",
      "=============================================================\n"
     ]
    }
   ],
   "source": [
    "params_bounds = {\n",
    "    \"mutation\": (0.5, 1.99), \n",
    "    \"cross_p\": (0, 1), \n",
    "    \"population_size\": (10, 50)\n",
    "}\n",
    "\n",
    "optimizer = BayesianOptimization(\n",
    "    f = outer_objfunc, \n",
    "    pbounds = params_bounds, \n",
    "    random_state = 10, \n",
    "    verbose = 1\n",
    ")\n",
    "\n",
    "n_init, n_iter = 20, 100\n",
    "optimizer.maximize(init_points = n_init, n_iter = n_iter)"
   ]
  },
  {
   "cell_type": "code",
   "execution_count": 11,
   "metadata": {
    "ExecuteTime": {
     "end_time": "2022-08-30T13:52:41.295345Z",
     "start_time": "2022-08-30T13:51:20.168336Z"
    }
   },
   "outputs": [
    {
     "name": "stdout",
     "output_type": "stream",
     "text": [
      "Iteration 0 - Objective Function value: 54.393340247772294\n",
      "Iteration 50 - Objective Function value: 2.025921707167842\n",
      "Iteration 100 - Objective Function value: 2.025921629979364\n",
      "Iteration 150 - Objective Function value: 2.0259216299793557\n",
      "Iteration 200 - Objective Function value: 2.025921629979329\n",
      "Iteration 250 - Objective Function value: 2.0259216299793255\n",
      "Iteration 300 - Objective Function value: 2.0259216299793255\n",
      "Iteration 350 - Objective Function value: 2.0259216299793255\n",
      "Iteration 400 - Objective Function value: 2.0259216299793255\n",
      "Iteration 450 - Objective Function value: 2.0259216299793255\n",
      "Iteration 500 - Objective Function value: 2.0259216299793255\n",
      "Iteration 550 - Objective Function value: 2.0259216299793255\n",
      "Iteration 600 - Objective Function value: 2.0259216299793255\n",
      "Iteration 650 - Objective Function value: 2.0259216299793255\n",
      "Iteration 700 - Objective Function value: 2.0259216299793255\n",
      "Iteration 750 - Objective Function value: 2.0259216299793255\n",
      "Iteration 800 - Objective Function value: 2.0259216299793255\n",
      "Iteration 850 - Objective Function value: 2.0259216299793255\n",
      "Iteration 900 - Objective Function value: 2.0259216299793255\n",
      "Iteration 950 - Objective Function value: 2.0259216299793255\n"
     ]
    }
   ],
   "source": [
    "cross_p, mutation, pop_size = optimizer.max[\"params\"].values()\n",
    "# training with the best parameters and increased number of iterations\n",
    "candidate_best = diff_evolution(\n",
    "        objective_function = losses.loss3,\n",
    "        bounds = disp_bounds,\n",
    "        mutation = mutation, \n",
    "        cross_p = cross_p, \n",
    "        population_size = int(pop_size),\n",
    "        verbose = 1, \n",
    "        maxit = 1000, \n",
    "        print_every = 50\n",
    ")"
   ]
  },
  {
   "cell_type": "code",
   "execution_count": 26,
   "metadata": {
    "ExecuteTime": {
     "end_time": "2022-08-30T14:27:36.198570Z",
     "start_time": "2022-08-30T14:27:35.778418Z"
    },
    "scrolled": false
   },
   "outputs": [
    {
     "data": {
      "image/png": "[encoded data removed]",
      "text/plain": [
       "<Figure size 640x480 with 1 Axes>"
      ]
     },
     "metadata": {},
     "output_type": "display_data"
    }
   ],
   "source": [
    "time, profile = l1_pump.forward_pass(candidate_best)\n",
    "fig, ax = plt.subplots()\n",
    "\n",
    "ax.set_title(\"Optimized DE output\", fontweight = \"bold\")\n",
    "ax.scatter(losses.target_time, losses.target_profile, marker = \"x\", c = \"grey\", s = 25, label = \"Target\")\n",
    "ax.plot(losses.target_time, np.roll(profile, - np.argmax(profile) + np.argmax(losses.target_profile)), label = \"Best DE\", lw = 2)\n",
    "\n",
    "ax.set_xlim(-7.5e-12, 7.5e-12); ax.set_xlabel(\"Time (s)\", fontsize = 12); ax.set_ylabel(\"Intensity\", fontsize = 12)\n",
    "ax.legend(fontsize = 12)\n",
    "plt.show()\n"
   ]
  }
 ],
 "metadata": {
  "kernelspec": {
   "display_name": "Python 3",
   "language": "python",
   "name": "python3"
  },
  "language_info": {
   "codemirror_mode": {
    "name": "ipython",
    "version": 3
   },
   "file_extension": ".py",
   "mimetype": "text/x-python",
   "name": "python",
   "nbconvert_exporter": "python",
   "pygments_lexer": "ipython3",
   "version": "3.8.5"
  },
  "toc": {
   "base_numbering": 1,
   "nav_menu": {},
   "number_sections": true,
   "sideBar": true,
   "skip_h1_title": false,
   "title_cell": "Table of Contents",
   "title_sidebar": "Contents",
   "toc_cell": false,
   "toc_position": {},
   "toc_section_display": true,
   "toc_window_display": false
  },
  "varInspector": {
   "cols": {
    "lenName": 16,
    "lenType": 16,
    "lenVar": 40
   },
   "kernels_config": {
    "python": {
     "delete_cmd_postfix": "",
     "delete_cmd_prefix": "del ",
     "library": "var_list.py",
     "varRefreshCmd": "print(var_dic_list())"
    },
    "r": {
     "delete_cmd_postfix": ") ",
     "delete_cmd_prefix": "rm(",
     "library": "var_list.r",
     "varRefreshCmd": "cat(var_dic_list()) "
    }
   },
   "types_to_exclude": [
    "module",
    "function",
    "builtin_function_or_method",
    "instance",
    "_Feature"
   ],
   "window_display": false
  }
 },
 "nbformat": 4,
 "nbformat_minor": 5
}
