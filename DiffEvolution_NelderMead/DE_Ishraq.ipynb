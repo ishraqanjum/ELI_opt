{
 "cells": [
  {
   "cell_type": "code",
   "execution_count": 60,
   "metadata": {},
   "outputs": [],
   "source": [
    "import sys\n",
    "# sys.path.append(\"../..\")\n",
    "# sys.path.insert(1, 'C:/Users/isrqa/ELIopt-main/ELIopt-main/algorithms')\n",
    "from bayes_opt import BayesianOptimization\n",
    "from L1_DifferentialEvolution import extract_data, model, diff_evolution\n",
    "import physics\n",
    "from losses import Losses\n",
    "from scipy.optimize import Bounds\n",
    "from scipy.optimize import minimize\n",
    "from pyswarm import pso\n",
    "import numpy as np\n",
    "import matplotlib.pyplot as plt"
   ]
  },
  {
   "cell_type": "code",
   "execution_count": 61,
   "metadata": {},
   "outputs": [],
   "source": [
    "frequency, intensity = extract_data() # extracting the desired information\n",
    "\n",
    "# compressor parameters - obtained as minus the stretcher one - TO BE FIXED WITH REAL ONES ONCE THEY ARE AVAILABLE\n",
    "COMPRESSOR = -1 * np.array((267.422 * 1e-24, -2.384 * 1e-36, 9.54893 * 1e-50)) # in s^2, s^3 and s^4 (SI units)\n",
    "# non linearity parameter\n",
    "B = 2\n",
    "# cutoff frequencies, in THz, used to remove noise - derived from visual inspection\n",
    "CUTOFF = (289.95, 291.91)\n",
    "# model instantiation\n",
    "l1_pump = model(frequency, intensity, COMPRESSOR, B, CUTOFF, num_points=int(5e3))\n",
    "\n",
    "losses = Losses(l1_pump)\n",
    "\n",
    "bounds_DE = Bounds(\n",
    "            # GDD         # TOD          # FOD\n",
    "    lb = (2.3522e-22, -1.003635e-34, 4.774465e-50),\n",
    "    ub = (2.99624e-22, 9.55955e-35, 1.4323395e-49)\n",
    ")\n",
    "\n",
    "bounds_matrix = np.vstack((bounds_DE.lb, bounds_DE.ub)).T\n",
    "disp_bounds = np.sort(l1_pump.translate_control(bounds_matrix, verse = \"to_disp\"))"
   ]
  },
  {
   "cell_type": "code",
   "execution_count": 62,
   "metadata": {},
   "outputs": [],
   "source": [
    "def outer_objfunc(mutation:float, cross_p:float, population_size:float) -> float: \n",
    "    \"\"\"\n",
    "    This is the outher objective function which is taking as input values characteristic of the \n",
    "    optimisation process.\n",
    "    For further documentantion on the relevance of these parameters and their effect on the optimisation \n",
    "    route check literature.\n",
    "    \"\"\"\n",
    "    population_size = int(population_size) # must be int\n",
    "    \n",
    "    candidate_best = diff_evolution(\n",
    "        objective_function = losses.loss3,\n",
    "        bounds = disp_bounds,\n",
    "        mutation = mutation, \n",
    "        cross_p = cross_p, \n",
    "        population_size = population_size,\n",
    "        verbose = 0, \n",
    "        maxit = 500, \n",
    "        print_every = 50\n",
    "    )\n",
    "    \n",
    "    return -1 * losses.loss3(candidate_best) # maximizing"
   ]
  },
  {
   "cell_type": "code",
   "execution_count": 5,
   "metadata": {},
   "outputs": [
    {
     "name": "stdout",
     "output_type": "stream",
     "text": [
      "|   iter    |  target   |  cross_p  | mutation  | popula... |\n",
      "-------------------------------------------------------------\n",
      "| \u001b[95m 2       \u001b[0m | \u001b[95m-1.443   \u001b[0m | \u001b[95m 0.7488  \u001b[0m | \u001b[95m 1.243   \u001b[0m | \u001b[95m 18.99   \u001b[0m |\n",
      "| \u001b[95m 46      \u001b[0m | \u001b[95m-1.443   \u001b[0m | \u001b[95m 0.8284  \u001b[0m | \u001b[95m 0.5616  \u001b[0m | \u001b[95m 21.67   \u001b[0m |\n",
      "=============================================================\n"
     ]
    }
   ],
   "source": [
    "params_bounds = {\n",
    "    \"mutation\": (0.5, 1.99), \n",
    "    \"cross_p\": (0, 1), \n",
    "    \"population_size\": (10, 50)\n",
    "}\n",
    "\n",
    "optimizer = BayesianOptimization(\n",
    "    f = outer_objfunc, \n",
    "    pbounds = params_bounds, \n",
    "    random_state = 10, \n",
    "    verbose = 1\n",
    ")\n",
    "\n",
    "n_init, n_iter = 20, 100\n",
    "optimizer.maximize(init_points = n_init, n_iter = n_iter)\n"
   ]
  },
  {
   "cell_type": "code",
   "execution_count": 57,
   "metadata": {},
   "outputs": [
    {
     "name": "stdout",
     "output_type": "stream",
     "text": [
      "No constraints given.\n",
      "New best for swarm at iteration 1: [-4.67424465e-01 -4.83925577e+07 -2.28291407e+15] 37.187749886718954\n",
      "New best for swarm at iteration 1: [-4.74897105e-01  1.32195292e+07 -1.98866345e+15] 31.043081169591748\n",
      "Best after iteration 1: [-4.74897105e-01  1.32195292e+07 -1.98866345e+15] 31.043081169591748\n",
      "New best for swarm at iteration 2: [-4.83417760e-01  1.25055007e+07 -2.55151879e+15] 20.353289609310664\n",
      "New best for swarm at iteration 2: [-4.77011091e-01 -8.97939220e+06  1.56859005e+15] 7.149284041668991\n",
      "Best after iteration 2: [-4.77011091e-01 -8.97939220e+06  1.56859005e+15] 7.149284041668991\n",
      "Best after iteration 3: [-4.77011091e-01 -8.97939220e+06  1.56859005e+15] 7.149284041668991\n",
      "New best for swarm at iteration 4: [-4.74484727e-01 -7.90602755e+06  1.07245677e+15] 6.6789431356373266\n",
      "Best after iteration 4: [-4.74484727e-01 -7.90602755e+06  1.07245677e+15] 6.6789431356373266\n",
      "Best after iteration 5: [-4.74484727e-01 -7.90602755e+06  1.07245677e+15] 6.6789431356373266\n",
      "Best after iteration 6: [-4.74484727e-01 -7.90602755e+06  1.07245677e+15] 6.6789431356373266\n",
      "Best after iteration 7: [-4.74484727e-01 -7.90602755e+06  1.07245677e+15] 6.6789431356373266\n",
      "New best for swarm at iteration 8: [-4.76975139e-01 -1.09702591e+07  1.20532257e+15] 5.98134837657235\n",
      "New best for swarm at iteration 8: [-4.76034028e-01 -6.00284109e+06  1.18533362e+15] 3.670833553792214\n",
      "Best after iteration 8: [-4.76034028e-01 -6.00284109e+06  1.18533362e+15] 3.670833553792214\n",
      "New best for swarm at iteration 9: [-4.75781856e-01 -7.70678903e+06  1.26102716e+15] 2.4142483595869884\n",
      "Best after iteration 9: [-4.75781856e-01 -7.70678903e+06  1.26102716e+15] 2.4142483595869884\n",
      "New best for swarm at iteration 10: [-4.75157198e-01 -7.52932453e+06  1.33444229e+15] 2.383266572141217\n",
      "New best for swarm at iteration 10: [-4.75379261e-01 -6.66931662e+06  1.41360971e+15] 1.5973791516699545\n",
      "Best after iteration 10: [-4.75379261e-01 -6.66931662e+06  1.41360971e+15] 1.5973791516699545\n",
      "Stopping search: maximum iterations reached --> 10\n"
     ]
    }
   ],
   "source": [
    "lb = [-5.31305788e-01, -3.14772231e+08, -2.55151879e+15]\n",
    "ub = [-4.17101926e-01, 3.01620182e+08, 1.56859005e+15]\n",
    "\n",
    "# lb = (2.3522e-22, -1.003635e-34, 4.774465e-50),\n",
    "#     ub = (2.99624e-22, 9.55955e-35, 1.4323395e-49)\n",
    "# [-4.75711318e-01 -7.00593523e+06  2.45034510e+15]\n",
    "\n",
    "# [-5.31305788e-01, -4.17101926e-01],\n",
    "#        [-3.14772231e+08,  3.01620182e+08],\n",
    "#        [-2.55151879e+15,  1.56859005e+15]\n",
    "\n",
    "# start = timeit.default_timer()\n",
    "xopt, fopt = pso(losses.loss3, lb, ub, swarmsize=100, debug=True, maxiter=10)\n",
    "\n",
    "# xopt, fopt = pso(losses.loss3, lb, ub, swarmsize=200, omega=0.5, phip=0.5, phig=0.5, maxiter=60, minstep=1e-7,\n",
    "#     minfunc=1e-15, debug=True)\n",
    "\n",
    "# stop = timeit.default_timer()\n",
    "\n",
    "# print('Time: ', stop - start) "
   ]
  },
  {
   "cell_type": "code",
   "execution_count": 58,
   "metadata": {},
   "outputs": [
    {
     "name": "stdout",
     "output_type": "stream",
     "text": [
      "Status : Optimization terminated successfully.\n",
      "Total Evaluations: 406\n",
      "Solution: f([-4.75711318e-01 -7.00593521e+06  2.45034507e+15]) = 1.36228\n",
      "(RMSE) 1.3622757674017347\n"
     ]
    }
   ],
   "source": [
    "rsult = minimize(losses.loss3, xopt, method='Nelder-Mead')\n",
    "\n",
    "print('Status : %s' % rsult['message'])\n",
    "print('Total Evaluations: %d' % rsult['nfev'])\n",
    "solution = rsult['x']\n",
    "evaluation = losses.loss3(solution)\n",
    "print('Solution: f(%s) = %.5f' % (solution, evaluation))\n",
    "print('(RMSE)',losses.loss3(solution))"
   ]
  },
  {
   "cell_type": "code",
   "execution_count": 63,
   "metadata": {},
   "outputs": [
    {
     "name": "stdout",
     "output_type": "stream",
     "text": [
      "Iteration 0 - Objective Function value: 29.093177844935425\n",
      "Iteration 50 - Objective Function value: 1.4433561261691674\n"
     ]
    }
   ],
   "source": [
    "cross_p, mutation, pop_size = optimizer.max[\"params\"].values()\n",
    "# training with the best parameters and increased number of iterations\n",
    "candidate_best = diff_evolution(\n",
    "        objective_function = losses.loss3,\n",
    "        bounds = disp_bounds,\n",
    "        mutation = mutation, \n",
    "        cross_p = cross_p, \n",
    "        population_size = int(pop_size),\n",
    "        verbose = 1, \n",
    "        maxit = 100, \n",
    "        print_every = 50\n",
    ")"
   ]
  },
  {
   "cell_type": "code",
   "execution_count": 64,
   "metadata": {},
   "outputs": [
    {
     "name": "stdout",
     "output_type": "stream",
     "text": [
      "Status : Maximum number of function evaluations has been exceeded.\n",
      "Total Evaluations: 600\n",
      "Solution: f([-4.75711318e-01 -7.00593518e+06  2.45034508e+15]) = 1.36228\n",
      "(RMSE) 1.3622757674017627\n"
     ]
    }
   ],
   "source": [
    "rsult = minimize(losses.loss3, candidate_best, method='Nelder-Mead')\n",
    "\n",
    "print('Status : %s' % rsult['message'])\n",
    "print('Total Evaluations: %d' % rsult['nfev'])\n",
    "solution = rsult['x']\n",
    "# evaluation = rmse(solution)\n",
    "evaluation = losses.loss3(solution)\n",
    "print('Solution: f(%s) = %.5f' % (solution, evaluation))\n",
    "# print('(RMSE)',rmse(solution))\n",
    "print('(RMSE)',losses.loss3(solution))\n",
    "# candidate_best = solution"
   ]
  },
  {
   "cell_type": "code",
   "execution_count": 65,
   "metadata": {},
   "outputs": [
    {
     "data": {
      "image/png": "[encoded data removed]",
      "text/plain": [
       "<Figure size 432x288 with 1 Axes>"
      ]
     },
     "metadata": {
      "needs_background": "light"
     },
     "output_type": "display_data"
    }
   ],
   "source": [
    "candidate_best = solution\n",
    "time, profile = l1_pump.forward_pass(candidate_best)\n",
    "fig, ax = plt.subplots()\n",
    "\n",
    "ax.set_title(\"Optimized DE output\", fontweight = \"bold\")\n",
    "ax.scatter(losses.target_time, losses.target_profile, marker = \"x\", c = \"grey\", s = 25, label = \"Target\")\n",
    "ax.plot(losses.target_time, np.roll(profile, - np.argmax(profile) + np.argmax(losses.target_profile)), label = \"Best DE\", lw = 2)\n",
    "\n",
    "ax.set_xlim(-7.5e-12, 7.5e-12); ax.set_xlabel(\"Time (s)\", fontsize = 12); ax.set_ylabel(\"Intensity\", fontsize = 12)\n",
    "ax.legend(fontsize = 12)\n",
    "plt.show()"
   ]
  }
 ],
 "metadata": {
  "kernelspec": {
   "display_name": "Python 3",
   "language": "python",
   "name": "python3"
  },
  "language_info": {
   "codemirror_mode": {
    "name": "ipython",
    "version": 3
   },
   "file_extension": ".py",
   "mimetype": "text/x-python",
   "name": "python",
   "nbconvert_exporter": "python",
   "pygments_lexer": "ipython3",
   "version": "3.8.5"
  }
 },
 "nbformat": 4,
 "nbformat_minor": 4
}
